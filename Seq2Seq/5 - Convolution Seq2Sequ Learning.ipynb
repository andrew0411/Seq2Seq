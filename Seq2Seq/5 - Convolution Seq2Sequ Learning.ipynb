{
 "cells": [
  {
   "cell_type": "markdown",
   "metadata": {},
   "source": [
    "# 5 - Convolution Sequence to Sequence Learning\n",
    "\n",
    "해당 내용은 2017년도 [Convolutional Sequence to Sequence Learning](https://arxiv.org/abs/1705.03122) 논문의 내용의 컨셉을 구현한 것임.\n",
    "\n",
    "## Introduction\n",
    "\n",
    "<p align=\"center\"><img src=\"../asset/5(1).png\"></p>\n",
    "\n",
    "본 모델은 이제까지와 다르게 reccurent 한 요소 없이 convolution layer로 구성하였다.\n",
    "\n",
    "## Data Preparation"
   ]
  },
  {
   "cell_type": "code",
   "execution_count": 20,
   "metadata": {},
   "outputs": [],
   "source": [
    "import torch\n",
    "import torch.nn as nn\n",
    "import torch.optim as optim\n",
    "import torch.nn.functional as F\n",
    "\n",
    "from torchtext.datasets import Multi30k\n",
    "from torchtext.data import Field, BucketIterator\n",
    "\n",
    "import matplotlib.pyplot as plt\n",
    "import matplotlib.ticker as ticker\n",
    "\n",
    "import spacy\n",
    "import numpy as np\n",
    "\n",
    "import random\n",
    "import math\n",
    "import time\n",
    "\n",
    "SEED = 1234\n",
    "\n",
    "random.seed(SEED)\n",
    "np.random.seed(SEED)\n",
    "torch.manual_seed(SEED)\n",
    "torch.cuda.manual_seed(SEED)\n",
    "torch.backends.cudnn.deterministic = True\n",
    "\n",
    "import en_core_web_sm, de_core_news_sm\n",
    "\n",
    "spacy_de = de_core_news_sm.load()\n",
    "spacy_en = en_core_web_sm.load()\n",
    "\n",
    "def tokenize_de(text):\n",
    "    return [tok.text for tok in spacy_de.tokenizer(text)]\n",
    "\n",
    "def tokenize_en(text):\n",
    "    return [tok.text for tok in spacy_en.tokenizer(text)]"
   ]
  },
  {
   "cell_type": "markdown",
   "metadata": {},
   "source": [
    "지금까지 RNN에 들어갈 때 sequence는 [sequence_length, batch_size] 와 같은 shape 이었지만, CNN에 들어가기 위해서는 [batch_size, sequence_length]여야함\n",
    "\n",
    "따라서 `batch_first=True`로 설정해준다"
   ]
  },
  {
   "cell_type": "code",
   "execution_count": 2,
   "metadata": {},
   "outputs": [],
   "source": [
    "SRC = Field(tokenize = tokenize_de, \n",
    "            init_token = '<sos>', \n",
    "            eos_token = '<eos>', \n",
    "            lower = True, \n",
    "            batch_first = True)\n",
    "\n",
    "TRG = Field(tokenize = tokenize_en, \n",
    "            init_token = '<sos>', \n",
    "            eos_token = '<eos>', \n",
    "            lower = True, \n",
    "            batch_first = True)"
   ]
  },
  {
   "cell_type": "code",
   "execution_count": 3,
   "metadata": {},
   "outputs": [],
   "source": [
    "train_data, valid_data, test_data = Multi30k.splits(\n",
    "    exts=('.de', '.en'),\n",
    "    fields=(SRC, TRG)\n",
    ")\n",
    "\n",
    "SRC.build_vocab(train_data, min_freq=2)\n",
    "TRG.build_vocab(train_data, min_freq=2)\n",
    "\n",
    "device = torch.device('cuda' if torch.cuda.is_available() else 'cpu')\n",
    "\n",
    "BATCH_SIZE = 128\n",
    "\n",
    "train_iterator, valid_iterator, test_iterator = BucketIterator.splits(\n",
    "    (train_data, valid_data, test_data), \n",
    "     batch_size = BATCH_SIZE,\n",
    "     device = device\n",
    ")"
   ]
  },
  {
   "cell_type": "markdown",
   "metadata": {},
   "source": [
    "## Building the Model\n",
    "\n",
    "`Encoder`은 input sentence를 받아서 *context vector*를 생성\n",
    "\n",
    "`Decoder`은 context vector를 통해 *output sentence*를 생성\n",
    "\n",
    "### Encoder\n",
    "\n",
    "기존의 RNN-based encoder에서는 *single context vector* $z$를 생성했다면, CNN-based에서는 token 하나당 두개의 *context vector*를 생성한다.\n",
    "\n",
    "Conved vector + Combined vector\n",
    "\n",
    "<p align=\"center\"><img src=\"../asset/5(2).png\"></p>\n",
    "\n",
    "1. `token`이 *embedding layer*를 거친다. 또한 RNN과 다르게 위치정보를 주기위해 *positional embedding layer*를 사용\n",
    "\n",
    "2. `token`과 `positional embedding`을 element-wise로 더한 뒤, `embedding vector`로 사용한다.\n",
    "\n",
    "3. 이후 *linear layer*를 통해 hidden vector로 변환해주고, 이는 Conv block를 거친다.\n",
    "\n",
    "4. Conv block을 거치고 *linear layer*를 통해 다시 embedded dimension로 변환해준다. 이를 `conved vector`라 부름\n",
    "\n",
    "5. 모든 `conved vector`와 `embedding vector`를 element-wise하게 더해준 것을 `combined vector`라고 한다.\n",
    "\n",
    "\n",
    "### Convolutional Blocks\n",
    "\n",
    "하나의 block은 1d convolution과 activation function으로 구성되어있다.\n",
    "\n",
    "<p align=\"center\"><img src=\"../asset/5(3).png\"></p>\n",
    "\n",
    "- 1D Convolution\n",
    "\n",
    "    - Hidden dimension 크기를 유지해주기 위해서 padding을 이용해준다.\n",
    "\n",
    "    - Padding 크기는 간단하게 `filter_size - 1) / 2`로 해주면 됨\n",
    "\n",
    "    - input이 $d$-dimensional vector 단어를 $k$개 포함하는 $X \\in \\mathbb{R}^{k \\times d}$\n",
    "\n",
    "    - output은 $\\mathbb{R}^{k \\times 2d}$ 이다. \n",
    "\n",
    "- GLU + Residual Connection\n",
    "\n",
    "    - Convolution을 거쳐서 dimension이 2배가 된 값에 *gated linear unit*을 적용한다.\n",
    "\n",
    "    - 이는 output vector를 2개로 (A, B) 나눈뒤 $A \\otimes \\sigma(B)$ 를 수행해준다.\n",
    "\n",
    "    - 즉, A 벡터는 그대로 들어가고 B는 sigmoid를 거친 후 A와 element-wise multiplication 을 거친다.\n",
    "\n",
    "    - 이후 residual connection을 통해 layer를 deep하게 쌓아준다."
   ]
  },
  {
   "cell_type": "markdown",
   "metadata": {},
   "source": [
    "### Implementation\n",
    "\n",
    "`scale`은 논문에서 network의 output의 variance를 줄여주기 위함이다.\n",
    "\n",
    "문장의 길이가 더 긴 dataset을 사용하면 `max_length`를 더 길게 설정해준다"
   ]
  },
  {
   "cell_type": "code",
   "execution_count": 4,
   "metadata": {},
   "outputs": [],
   "source": [
    "class Encoder(nn.Module):\n",
    "    def __init__(self, input_dim, emb_dim, hid_dim, n_layers, kernel_size, dropout, device, max_length=100):\n",
    "        super().__init__()\n",
    "\n",
    "        assert kernel_size % 2 == 1, 'Kernel size must be odd'\n",
    "\n",
    "        self.device = device\n",
    "        self.scale = torch.sqrt(torch.FloatTensor([0.5])).to(device)\n",
    "        self.tok_embedding = nn.Embedding(input_dim, emb_dim)\n",
    "        self.pos_embedding = nn.Embedding(max_length, emb_dim)\n",
    "\n",
    "        self.emb2hid = nn.Linear(emb_dim, hid_dim)\n",
    "        self.hid2emb = nn.Linear(hid_dim, emb_dim)\n",
    "\n",
    "        self.conv_blocks = nn.ModuleList([\n",
    "            nn.Conv1d(\n",
    "                in_channels=hid_dim,\n",
    "                out_channels=2 * hid_dim,\n",
    "                kernel_size=kernel_size,\n",
    "                padding=(kernel_size - 1) // 2\n",
    "            )\n",
    "            for _ in range(n_layers)\n",
    "        ])\n",
    "\n",
    "        self.dropout = nn.Dropout(dropout)\n",
    "\n",
    "\n",
    "    def forward(self, src):\n",
    "        '''\n",
    "        src - [batch_size, src_len] # RNN 계열은 [src_len, batch_size] 였다.\n",
    "        '''\n",
    "\n",
    "        batch_size = src.shape[0]\n",
    "        src_len = src.shape[1]\n",
    "\n",
    "        pos = torch.arange(0, src_len).unsqueeze(0).repeat(batch_size, 1).to(self.device)\n",
    "        # pos - [batch_size, src_len]\n",
    "\n",
    "        tok_embedded = self.tok_embedding(src)\n",
    "        pos_embedded = self.pos_embedding(pos)\n",
    "        # tok, pos_embedded - [batch_size, src_len, emb_dim]\n",
    "\n",
    "        embedded = self.dropout(tok_embedded + pos_embedded)\n",
    "        # embedded - [batch_size, src_len, emb_dim]\n",
    "\n",
    "        conv_input = self.emb2hid(embedded)\n",
    "        # conv_input - [batch_size, src_len, hid_dim]\n",
    "\n",
    "        conv_input = conv_input.permute(0, 2, 1)\n",
    "        # conv_input - [batch_size, hid_dim, src_len]\n",
    "\n",
    "        for i, conv in enumerate(self.conv_blocks):\n",
    "            conved = conv(self.dropout(conv_input))\n",
    "            # conved - [batch_size, 2 * hid_dim, src_len]\n",
    "\n",
    "            conved = F.glu(conved, dim=1)\n",
    "            # conved - [batch_size, hid_dim, src_len]\n",
    "\n",
    "            conved = (conved + conv_input) * self.scale\n",
    "\n",
    "            conv_input = conved\n",
    "\n",
    "        conved = self.hid2emb(conved.permute(0, 2, 1))\n",
    "        # conved - [batch_size, src_len, emb_dim]\n",
    "\n",
    "        combined = (conved + embedded) * self.scale\n",
    "\n",
    "        return conved, combined"
   ]
  },
  {
   "cell_type": "markdown",
   "metadata": {},
   "source": [
    "### Decoder\n",
    "\n",
    "RNN 계열과 다르게 sequential하게 예측하는 것이 아니라 병렬적으로 한번에 계산된다.\n",
    "\n",
    "<p align=\"center\"><img src=\"../asset/5(4).png\"></p>\n",
    "\n",
    "Decoder도 위의 Encoder과 거의 유사한 구조이고 유사한 input을 받지만, 다른 것은 Encoder에서 구한 `conved vector`와 `combined vector`가 convolutional block에 들어간 후 prediction을 하는 것, 그리고 convolutional block 내에서의 연산과정이 다르다.\n",
    "\n",
    "<p align=\"center\"><img src=\"../asset/5(5).png\"></p>\n",
    "\n",
    "1. Encoder의 block과 다른 점은 padding이 sequence의 양끝이 아니라 앞에 붙혀주는 것임.\n",
    "\n",
    "만약 encoder과 같게 아래 그림과 같이 **양 옆에** padding을 하게 되면 `<sos>`를 받고 다음 단어를 예측해야되는데, convolution 연산 과정에서 true 값인 `two`를 보면서 예측하기 때문에 학습이 잘 안된다.\n",
    "\n",
    "<p align=\"center\"><img src=\"../asset/5(6).png\"></p>\n",
    "\n",
    "2. 또 다른 점은 GLU activation 이후에 attention 연산을 수행한다는 것이다.\n",
    "\n",
    "Encoder에서 얻어진 global representation과 특정 token의 embedding 사이의 attention을 계산한다.\n",
    "\n",
    "우선 token (hidden dimension) 을 embedding dimension과 같은 크기로 맞춰주고, `encoded conved`과 얼마나 match 되는지, 즉 attention score를 계산한다. 이후에 얻어진 attention score로 `encoded combined`의 weighted 값을 얻고 이를 반환해준다\n",
    "\n",
    "본 논문에서는 `encoded conved`는 전체 sequence에 대한 larget context를 가지고 있고, `encoded combined`는 특정 token에 대한 information을 더 많이 가지고 있어서, prediction하기에 적합하다고 한다.\n",
    "\n",
    "</br>\n",
    "\n",
    "### Decoder Implementation"
   ]
  },
  {
   "cell_type": "code",
   "execution_count": 6,
   "metadata": {},
   "outputs": [],
   "source": [
    "class Decoder(nn.Module):\n",
    "    def __init__(\n",
    "                self, output_dim, emb_dim, hid_dim,\n",
    "                n_layers, kernel_size, dropout,\n",
    "                trg_pad_idx, device, max_length=100\n",
    "                ):\n",
    "        super().__init__()\n",
    "\n",
    "        self.kernel_size = kernel_size\n",
    "        self.trg_pad_idx = trg_pad_idx\n",
    "        self.device = device\n",
    "        self.scale = torch.sqrt(torch.FloatTensor([0.5])).to(device)\n",
    "        \n",
    "        self.tok_embedding = nn.Embedding(output_dim, emb_dim)\n",
    "        self.pos_embedding = nn.Embedding(max_length, emb_dim)\n",
    "        \n",
    "        self.emb2hid = nn.Linear(emb_dim, hid_dim)\n",
    "        self.hid2emb = nn.Linear(hid_dim, emb_dim)\n",
    "        \n",
    "        self.attn_hid2emb = nn.Linear(hid_dim, emb_dim)\n",
    "        self.attn_emb2hid = nn.Linear(emb_dim, hid_dim)\n",
    "\n",
    "        self.fc_out = nn.Linear(emb_dim, output_dim)\n",
    "\n",
    "        self.conv_blocks = nn.ModuleList([\n",
    "            nn.Conv1d(\n",
    "                in_channels=hid_dim,\n",
    "                out_channels=2 * hid_dim,\n",
    "                kernel_size=kernel_size, # padding 구현은 이따가\n",
    "            )\n",
    "            for _ in range(n_layers)\n",
    "        ])\n",
    "\n",
    "        self.dropout = nn.Dropout(dropout)\n",
    "\n",
    "\n",
    "    def calculate_attention(self, embedded, conved, encoder_conved, encoder_combined):\n",
    "        '''\n",
    "        embedded - [batch_size, trg_len, emb_dim]\n",
    "        conved - [batch_size, hid_dim, trg_len]\n",
    "        encoder_conved, combined - [batch_size, src_len, emb_dim]\n",
    "        '''\n",
    "\n",
    "        conved_emb = self.attn_hid2emb(conved.permute(0, 2, 1))\n",
    "        combined = (conved_emb + embedded) * self.scale\n",
    "\n",
    "        energy = torch.matmul(combined, encoder_conved.permute(0, 2, 1))\n",
    "        # energy - [batch_size, trg_len, src_len]\n",
    "\n",
    "        attention = F.softmax(energy, dim=2)\n",
    "\n",
    "        attended_encoding = torch.matmul(attention, encoder_combined)\n",
    "        #attended_encoding = [batch size, trg len, emd dim]\n",
    "\n",
    "        attended_encoding = self.attn_emb2hid(attended_encoding)\n",
    "        #attended_encoding = [batch size, trg len, hid dim]\n",
    "\n",
    "        attended_combined = (conved + attended_encoding.permute(0, 2, 1)) * self.scale\n",
    "\n",
    "        return attention, attended_combined\n",
    "\n",
    "\n",
    "    def forward(self, trg, encoder_conved, encoder_combined):\n",
    "        '''\n",
    "        trg - [batch_size, trg_len]\n",
    "        encoder_conved, combined - [batch_size, src_len, emb_dim]\n",
    "        '''\n",
    "\n",
    "        batch_size = trg.shape[0]\n",
    "        trg_len = trg.shape[1]\n",
    "\n",
    "        pos = torch.arange(0, trg_len).unsqueeze(0).repeat(batch_size, 1).to(self.device)\n",
    "\n",
    "        tok_embedded = self.tok_embedding(trg)\n",
    "        pos_embedded = self.pos_embedding(pos)\n",
    "\n",
    "        embedded = self.dropout(tok_embedded + pos_embedded)\n",
    "\n",
    "        conv_input = self.emb2hid(embedded)\n",
    "\n",
    "        conv_input = conv_input.permute(0, 2, 1)\n",
    "\n",
    "        batch_size = conv_input.shape[0]\n",
    "        hid_dim = conv_input.shape[1]\n",
    "\n",
    "        for i, conv in enumerate(self.conv_blocks):\n",
    "\n",
    "            conv_input = self.dropout(conv_input)\n",
    "\n",
    "            padding = torch.zeros(batch_size, hid_dim, self.kernel_size - 1).fill_(self.trg_pad_idx).to(self.device)\n",
    "\n",
    "            padded_conv_input = torch.cat((padding, conv_input), dim=2)\n",
    "\n",
    "            conved = conv(padded_conv_input)\n",
    "\n",
    "            conved = F.glu(conved, dim=1)\n",
    "\n",
    "            attention, conved = self.calculate_attention(embedded, conved, encoder_conved, encoder_combined)\n",
    "\n",
    "            conved = (conved + conv_input) * self.scale\n",
    "\n",
    "            conv_input = conved\n",
    "\n",
    "        conved = self.hid2emb(conved.permute(0, 2, 1))\n",
    "\n",
    "        output = self.fc_out(self.dropout(conved))\n",
    "\n",
    "        return output, attention       "
   ]
  },
  {
   "cell_type": "markdown",
   "metadata": {},
   "source": [
    "### Seq2Seq\n",
    "\n",
    "해당 Decoder에서는 `<eos>` token이 들어갈 필요가 없어서 이를 제거해준다.\n",
    "\n",
    "또한 기존의 RNN 기반과는 다르게 conv모델은 병렬적으로 한번에 계산되기 때문에 teacher_forcing technique을 적용할 수 없다."
   ]
  },
  {
   "cell_type": "code",
   "execution_count": 7,
   "metadata": {},
   "outputs": [],
   "source": [
    "class Seq2Seq(nn.Module):\n",
    "    def __init__(self, encoder, decoder):\n",
    "        super().__init__()\n",
    "\n",
    "        self.encoder = encoder\n",
    "        self.decoder = decoder\n",
    "\n",
    "    def forward(self, src, trg):\n",
    "        '''\n",
    "        src - [batch_size, src_len]\n",
    "        trg - [batch_size, trg_len - 1]\n",
    "        '''\n",
    "        encoder_conved, encoder_combined = self.encoder(src)\n",
    "\n",
    "        output, attention = self.decoder(trg, encoder_conved, encoder_combined)\n",
    "\n",
    "        return output, attention"
   ]
  },
  {
   "cell_type": "markdown",
   "metadata": {},
   "source": [
    "### Training the Seq2Seq Model"
   ]
  },
  {
   "cell_type": "code",
   "execution_count": 8,
   "metadata": {},
   "outputs": [],
   "source": [
    "INPUT_DIM = len(SRC.vocab)\n",
    "OUTPUT_DIM = len(TRG.vocab)\n",
    "EMB_DIM = 256\n",
    "HID_DIM = 512 # each conv. layer has 2 * hid_dim filters\n",
    "ENC_LAYERS = 10 # number of conv. blocks in encoder\n",
    "DEC_LAYERS = 10 # number of conv. blocks in decoder\n",
    "ENC_KERNEL_SIZE = 3 # must be odd!\n",
    "DEC_KERNEL_SIZE = 3 # can be even or odd\n",
    "ENC_DROPOUT = 0.25\n",
    "DEC_DROPOUT = 0.25\n",
    "TRG_PAD_IDX = TRG.vocab.stoi[TRG.pad_token]\n",
    "    \n",
    "enc = Encoder(INPUT_DIM, EMB_DIM, HID_DIM, ENC_LAYERS, ENC_KERNEL_SIZE, ENC_DROPOUT, device)\n",
    "dec = Decoder(OUTPUT_DIM, EMB_DIM, HID_DIM, DEC_LAYERS, DEC_KERNEL_SIZE, DEC_DROPOUT, TRG_PAD_IDX, device)\n",
    "\n",
    "model = Seq2Seq(enc, dec).to(device)"
   ]
  },
  {
   "cell_type": "code",
   "execution_count": 9,
   "metadata": {},
   "outputs": [
    {
     "name": "stdout",
     "output_type": "stream",
     "text": [
      "The model has 37,351,429 trainable parameters\n"
     ]
    }
   ],
   "source": [
    "def count_parameters(model):\n",
    "    return sum(p.numel() for p in model.parameters() if p.requires_grad)\n",
    "\n",
    "print(f'The model has {count_parameters(model):,} trainable parameters')"
   ]
  },
  {
   "cell_type": "code",
   "execution_count": 10,
   "metadata": {},
   "outputs": [],
   "source": [
    "optimizer = optim.Adam(model.parameters())\n",
    "\n",
    "criterion = nn.CrossEntropyLoss(ignore_index = TRG_PAD_IDX)"
   ]
  },
  {
   "cell_type": "markdown",
   "metadata": {},
   "source": [
    "지금까지의 RNN 기반 decoder에서는 sequential하게 loop를 돌면서 `<eos>`까지 가지 않아서 고려할 필요가 없었음.\n",
    "\n",
    "해당 모델에서는 `<eos>`를 직접 slice해주어야 함\n",
    "\n",
    "target_input = [$sos, x_1, x_2, x_3, eos$]\n",
    "\n",
    "target_input[:-1] = [$sos, x_1, x_2, x_3$]\n",
    "\n",
    "output = [$y_1, y_2, y_3, eos$]\n",
    "\n",
    "</br>\n",
    "\n",
    "또한 `contiguous()`"
   ]
  },
  {
   "cell_type": "code",
   "execution_count": 16,
   "metadata": {},
   "outputs": [],
   "source": [
    "def train(model, iterator, optimizer, criterion, clip):\n",
    "    \n",
    "    model.train()\n",
    "    \n",
    "    epoch_loss = 0\n",
    "    \n",
    "    for i, batch in enumerate(iterator):\n",
    "        \n",
    "        src = batch.src\n",
    "        trg = batch.trg\n",
    "        \n",
    "        optimizer.zero_grad()\n",
    "        \n",
    "        output, _ = model(src, trg[:,:-1])\n",
    "        \n",
    "        #output = [batch size, trg len - 1, output dim]\n",
    "        #trg = [batch size, trg len]\n",
    "        \n",
    "        output_dim = output.shape[-1]\n",
    "        \n",
    "        output = output.contiguous().view(-1, output_dim)\n",
    "        trg = trg[:,1:].contiguous().view(-1)\n",
    "        \n",
    "        #output = [batch size * trg len - 1, output dim]\n",
    "        #trg = [batch size * trg len - 1]\n",
    "        \n",
    "        loss = criterion(output, trg)\n",
    "        \n",
    "        loss.backward()\n",
    "        \n",
    "        torch.nn.utils.clip_grad_norm_(model.parameters(), clip)\n",
    "        \n",
    "        optimizer.step()\n",
    "        \n",
    "        epoch_loss += loss.item()\n",
    "        \n",
    "    return epoch_loss / len(iterator)"
   ]
  },
  {
   "cell_type": "code",
   "execution_count": 15,
   "metadata": {},
   "outputs": [],
   "source": [
    "def evaluate(model, iterator, criterion):\n",
    "    \n",
    "    model.eval()\n",
    "    \n",
    "    epoch_loss = 0\n",
    "    \n",
    "    with torch.no_grad():\n",
    "    \n",
    "        for i, batch in enumerate(iterator):\n",
    "\n",
    "            src = batch.src\n",
    "            trg = batch.trg\n",
    "\n",
    "            output, _ = model(src, trg[:,:-1])\n",
    "        \n",
    "            #output = [batch size, trg len - 1, output dim]\n",
    "            #trg = [batch size, trg len]\n",
    "\n",
    "            output_dim = output.shape[-1]\n",
    "            \n",
    "            output = output.contiguous().view(-1, output_dim)\n",
    "            trg = trg[:,1:].contiguous().view(-1)\n",
    "\n",
    "            #output = [batch size * trg len - 1, output dim]\n",
    "            #trg = [batch size * trg len - 1]\n",
    "            \n",
    "            loss = criterion(output, trg)\n",
    "\n",
    "            epoch_loss += loss.item()\n",
    "        \n",
    "    return epoch_loss / len(iterator)"
   ]
  },
  {
   "cell_type": "code",
   "execution_count": 13,
   "metadata": {},
   "outputs": [],
   "source": [
    "def epoch_time(start_time, end_time):\n",
    "    elapsed_time = end_time - start_time\n",
    "    elapsed_mins = int(elapsed_time / 60)\n",
    "    elapsed_secs = int(elapsed_time - (elapsed_mins * 60))\n",
    "    return elapsed_mins, elapsed_secs"
   ]
  },
  {
   "cell_type": "code",
   "execution_count": 17,
   "metadata": {},
   "outputs": [
    {
     "name": "stdout",
     "output_type": "stream",
     "text": [
      "Epoch : 01 | Time : 0m 26s | Train loss : 4.02320 | Valid loss : 2.92189\n",
      "Epoch : 02 | Time : 0m 26s | Train loss : 2.94968 | Valid loss : 2.35547\n",
      "Epoch : 03 | Time : 0m 26s | Train loss : 2.57158 | Valid loss : 2.10549\n",
      "Epoch : 04 | Time : 0m 26s | Train loss : 2.35396 | Valid loss : 1.98210\n",
      "Epoch : 05 | Time : 0m 25s | Train loss : 2.20248 | Valid loss : 1.90539\n",
      "Epoch : 06 | Time : 0m 24s | Train loss : 2.08823 | Valid loss : 1.86787\n",
      "Epoch : 07 | Time : 0m 24s | Train loss : 2.00448 | Valid loss : 1.80725\n",
      "Epoch : 08 | Time : 0m 25s | Train loss : 1.92861 | Valid loss : 1.78907\n",
      "Epoch : 09 | Time : 0m 26s | Train loss : 1.87114 | Valid loss : 1.76760\n",
      "Epoch : 10 | Time : 0m 26s | Train loss : 1.81790 | Valid loss : 1.73462\n"
     ]
    }
   ],
   "source": [
    "N_EPOCHS = 10\n",
    "CLIP = 0.1\n",
    "\n",
    "best_valid_loss = float('inf')\n",
    "\n",
    "for epoch in range(N_EPOCHS):\n",
    "    \n",
    "    start_time = time.time()\n",
    "    \n",
    "    train_loss = train(model, train_iterator, optimizer, criterion, CLIP)\n",
    "    valid_loss = evaluate(model, valid_iterator, criterion)\n",
    "    \n",
    "    end_time = time.time()\n",
    "    \n",
    "    epoch_mins, epoch_secs = epoch_time(start_time, end_time)\n",
    "    \n",
    "    if valid_loss < best_valid_loss:\n",
    "        best_valid_loss = valid_loss\n",
    "        torch.save(model.state_dict(), '5-seq2seq-model.pt')\n",
    "    \n",
    "    print(f'Epoch : {epoch+1:02} | Time : {epoch_mins}m {epoch_secs}s | Train loss : {train_loss:.5f} | Valid loss : {valid_loss:.5f}')"
   ]
  },
  {
   "cell_type": "code",
   "execution_count": 18,
   "metadata": {},
   "outputs": [
    {
     "name": "stdout",
     "output_type": "stream",
     "text": [
      "| Test Loss: 1.807 | Test PPL:   6.092 |\n"
     ]
    }
   ],
   "source": [
    "model.load_state_dict(torch.load('5-seq2seq-model.pt'))\n",
    "\n",
    "test_loss = evaluate(model, test_iterator, criterion)\n",
    "\n",
    "print(f'| Test Loss: {test_loss:.3f} | Test PPL: {math.exp(test_loss):7.3f} |')"
   ]
  },
  {
   "cell_type": "markdown",
   "metadata": {},
   "source": [
    "### Inference\n",
    "\n",
    "`translate_sentence` 함수에서 하는 일\n",
    "\n",
    "1. tokenize 안 되어있는 원 문장이면 tokenize 해주기\n",
    "2. <sos>, <eos> token 붙혀주기\n",
    "3. `vocab.stoi` 이용해서  문장을 양자화\n",
    "4. 모델의 Encoder 결과 출력\n",
    "5. <sos> 토큰을 decoder에 넣어서 prediction 시작\n",
    "6. prediction에 <eos>가 나올때까지 반복\n",
    "7. 완료된 token들을 `vocab.itos` 이용하여 문장으로 바꿔줌"
   ]
  },
  {
   "cell_type": "code",
   "execution_count": 19,
   "metadata": {},
   "outputs": [],
   "source": [
    "def translate_sentence(sentence, src_field, trg_field, model, device, max_len = 50):\n",
    "\n",
    "    model.eval()\n",
    "        \n",
    "    if isinstance(sentence, str):\n",
    "        nlp = spacy.load('de_core_news_sm')\n",
    "        tokens = [token.text.lower() for token in nlp(sentence)]\n",
    "    else:\n",
    "        tokens = [token.lower() for token in sentence]\n",
    "\n",
    "    tokens = [src_field.init_token] + tokens + [src_field.eos_token]\n",
    "        \n",
    "    src_indexes = [src_field.vocab.stoi[token] for token in tokens]\n",
    "\n",
    "    src_tensor = torch.LongTensor(src_indexes).unsqueeze(0).to(device)\n",
    "\n",
    "    with torch.no_grad():\n",
    "        encoder_conved, encoder_combined = model.encoder(src_tensor)\n",
    "\n",
    "    trg_indexes = [trg_field.vocab.stoi[trg_field.init_token]]\n",
    "\n",
    "    for i in range(max_len):\n",
    "\n",
    "        trg_tensor = torch.LongTensor(trg_indexes).unsqueeze(0).to(device)\n",
    "\n",
    "        with torch.no_grad():\n",
    "            output, attention = model.decoder(trg_tensor, encoder_conved, encoder_combined)\n",
    "        \n",
    "        pred_token = output.argmax(2)[:,-1].item()\n",
    "        \n",
    "        trg_indexes.append(pred_token)\n",
    "\n",
    "        if pred_token == trg_field.vocab.stoi[trg_field.eos_token]:\n",
    "            break\n",
    "    \n",
    "    trg_tokens = [trg_field.vocab.itos[i] for i in trg_indexes]\n",
    "    \n",
    "    return trg_tokens[1:], attention"
   ]
  },
  {
   "cell_type": "markdown",
   "metadata": {},
   "source": [
    "다음은 모델이 어떤 token에 attention을 주었느지를 시각화하는 함수이다."
   ]
  },
  {
   "cell_type": "code",
   "execution_count": 21,
   "metadata": {},
   "outputs": [],
   "source": [
    "def display_attention(sentence, translation, attention):\n",
    "    \n",
    "    fig = plt.figure(figsize=(10,10))\n",
    "    ax = fig.add_subplot(111)\n",
    "        \n",
    "    attention = attention.squeeze(0).cpu().detach().numpy()\n",
    "    \n",
    "    cax = ax.matshow(attention, cmap='bone')\n",
    "   \n",
    "    ax.tick_params(labelsize=15)\n",
    "    ax.set_xticklabels(['']+['<sos>']+[t.lower() for t in sentence]+['<eos>'], \n",
    "                       rotation=45)\n",
    "    ax.set_yticklabels(['']+translation)\n",
    "\n",
    "    ax.xaxis.set_major_locator(ticker.MultipleLocator(1))\n",
    "    ax.yaxis.set_major_locator(ticker.MultipleLocator(1))\n",
    "\n",
    "    plt.show()\n",
    "    plt.close()"
   ]
  },
  {
   "cell_type": "markdown",
   "metadata": {},
   "source": [
    "Training set에 포함되어있는 문장 inference"
   ]
  },
  {
   "cell_type": "code",
   "execution_count": 22,
   "metadata": {},
   "outputs": [
    {
     "name": "stdout",
     "output_type": "stream",
     "text": [
      "src = ['ein', 'kleines', 'mädchen', 'klettert', 'in', 'ein', 'spielhaus', 'aus', 'holz', '.']\n",
      "trg = ['a', 'little', 'girl', 'climbing', 'into', 'a', 'wooden', 'playhouse', '.']\n"
     ]
    }
   ],
   "source": [
    "example_idx = 2\n",
    "\n",
    "src = vars(train_data.examples[example_idx])['src']\n",
    "trg = vars(train_data.examples[example_idx])['trg']\n",
    "\n",
    "print(f'src = {src}')\n",
    "print(f'trg = {trg}')"
   ]
  },
  {
   "cell_type": "code",
   "execution_count": 23,
   "metadata": {},
   "outputs": [
    {
     "name": "stdout",
     "output_type": "stream",
     "text": [
      "predicted trg = ['a', 'little', 'girl', 'is', 'climbing', 'in', 'a', 'playhouse', 'made', 'of', 'wood', '.', '<eos>']\n"
     ]
    }
   ],
   "source": [
    "translation, attention = translate_sentence(src, SRC, TRG, model, device)\n",
    "\n",
    "print(f'predicted trg = {translation}')"
   ]
  },
  {
   "cell_type": "code",
   "execution_count": 24,
   "metadata": {},
   "outputs": [
    {
     "name": "stderr",
     "output_type": "stream",
     "text": [
      "/home/hwan/anaconda3/envs/torch1.7.1/lib/python3.7/site-packages/ipykernel_launcher.py:12: UserWarning: FixedFormatter should only be used together with FixedLocator\n",
      "  if sys.path[0] == \"\":\n",
      "/home/hwan/anaconda3/envs/torch1.7.1/lib/python3.7/site-packages/ipykernel_launcher.py:13: UserWarning: FixedFormatter should only be used together with FixedLocator\n",
      "  del sys.path[0]\n"
     ]
    },
    {
     "data": {
      "image/png": "[encoded data removed]",
      "text/plain": [
       "<Figure size 1000x1000 with 1 Axes>"
      ]
     },
     "metadata": {},
     "output_type": "display_data"
    }
   ],
   "source": [
    "display_attention(src, translation, attention)"
   ]
  },
  {
   "cell_type": "markdown",
   "metadata": {},
   "source": [
    "Validation set에 포함되어있는 문장 inference"
   ]
  },
  {
   "cell_type": "code",
   "execution_count": 25,
   "metadata": {},
   "outputs": [
    {
     "name": "stdout",
     "output_type": "stream",
     "text": [
      "src = ['ein', 'junge', 'mit', 'kopfhörern', 'sitzt', 'auf', 'den', 'schultern', 'einer', 'frau', '.']\n",
      "trg = ['a', 'boy', 'wearing', 'headphones', 'sits', 'on', 'a', 'woman', \"'s\", 'shoulders', '.']\n",
      "predicted trg = ['a', 'boy', 'with', 'headphones', 'sitting', 'on', 'the', 'shoulders', 'of', 'a', 'woman', '.', '<eos>']\n"
     ]
    }
   ],
   "source": [
    "example_idx = 2\n",
    "\n",
    "src = vars(valid_data.examples[example_idx])['src']\n",
    "trg = vars(valid_data.examples[example_idx])['trg']\n",
    "\n",
    "print(f'src = {src}')\n",
    "print(f'trg = {trg}')\n",
    "\n",
    "translation, attention = translate_sentence(src, SRC, TRG, model, device)\n",
    "\n",
    "print(f'predicted trg = {translation}')"
   ]
  },
  {
   "cell_type": "code",
   "execution_count": 26,
   "metadata": {},
   "outputs": [
    {
     "name": "stderr",
     "output_type": "stream",
     "text": [
      "/home/hwan/anaconda3/envs/torch1.7.1/lib/python3.7/site-packages/ipykernel_launcher.py:12: UserWarning: FixedFormatter should only be used together with FixedLocator\n",
      "  if sys.path[0] == \"\":\n",
      "/home/hwan/anaconda3/envs/torch1.7.1/lib/python3.7/site-packages/ipykernel_launcher.py:13: UserWarning: FixedFormatter should only be used together with FixedLocator\n",
      "  del sys.path[0]\n"
     ]
    },
    {
     "data": {
      "image/png": "[encoded data removed]",
      "text/plain": [
       "<Figure size 1000x1000 with 1 Axes>"
      ]
     },
     "metadata": {},
     "output_type": "display_data"
    }
   ],
   "source": [
    "display_attention(src, translation, attention)"
   ]
  },
  {
   "cell_type": "markdown",
   "metadata": {},
   "source": [
    "### BLEU score\n",
    "\n",
    "- Bilingual Evaluation Understudy Score\n",
    "\n",
    "- Model output과 사람의 translation이 얼마나 유사한지 비교하는 번역에 대한 성능을 측정하는 방법\n",
    "\n",
    "- N-gram을 기반으로 측정"
   ]
  },
  {
   "cell_type": "code",
   "execution_count": 27,
   "metadata": {},
   "outputs": [],
   "source": [
    "from torchtext.data.metrics import bleu_score\n",
    "\n",
    "def calculate_bleu(data, src_field, trg_field, model, device, max_len = 50):\n",
    "    \n",
    "    trgs = []\n",
    "    pred_trgs = []\n",
    "    \n",
    "    for datum in data:\n",
    "        \n",
    "        src = vars(datum)['src']\n",
    "        trg = vars(datum)['trg']\n",
    "        \n",
    "        pred_trg, _ = translate_sentence(src, src_field, trg_field, model, device, max_len)\n",
    "        \n",
    "        #cut off <eos> token\n",
    "        pred_trg = pred_trg[:-1]\n",
    "        \n",
    "        pred_trgs.append(pred_trg)\n",
    "        trgs.append([trg])\n",
    "        \n",
    "    return bleu_score(pred_trgs, trgs)"
   ]
  },
  {
   "cell_type": "code",
   "execution_count": 28,
   "metadata": {},
   "outputs": [
    {
     "name": "stdout",
     "output_type": "stream",
     "text": [
      "BLEU score = 34.71\n"
     ]
    }
   ],
   "source": [
    "bleu_score = calculate_bleu(test_data, SRC, TRG, model, device)\n",
    "\n",
    "print(f'BLEU score = {bleu_score*100:.2f}')"
   ]
  },
  {
   "cell_type": "code",
   "execution_count": 30,
   "metadata": {},
   "outputs": [
    {
     "name": "stdout",
     "output_type": "stream",
     "text": [
      "0.6.0\n"
     ]
    }
   ],
   "source": [
    "import torchtext\n",
    "\n",
    "print(torchtext.__version__)"
   ]
  }
 ],
 "metadata": {
  "kernelspec": {
   "display_name": "Python 3.7.13 ('torch1.7.1')",
   "language": "python",
   "name": "python3"
  },
  "language_info": {
   "codemirror_mode": {
    "name": "ipython",
    "version": 3
   },
   "file_extension": ".py",
   "mimetype": "text/x-python",
   "name": "python",
   "nbconvert_exporter": "python",
   "pygments_lexer": "ipython3",
   "version": "3.7.13"
  },
  "orig_nbformat": 4,
  "vscode": {
   "interpreter": {
    "hash": "b4a84903a2b3fdb7d367cfd9ea570be165ad361672f95a63c30b0740103c512e"
   }
  }
 },
 "nbformat": 4,
 "nbformat_minor": 2
}
